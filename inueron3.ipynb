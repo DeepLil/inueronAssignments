{
  "nbformat": 4,
  "nbformat_minor": 0,
  "metadata": {
    "colab": {
      "name": "inueron3.ipynb",
      "provenance": [],
      "collapsed_sections": []
    },
    "kernelspec": {
      "name": "python3",
      "display_name": "Python 3"
    },
    "language_info": {
      "name": "python"
    }
  },
  "cells": [
    {
      "cell_type": "markdown",
      "metadata": {
        "id": "iZVo_TGGfwSZ"
      },
      "source": [
        "program 1.1"
      ]
    },
    {
      "cell_type": "code",
      "metadata": {
        "id": "RfRzv9Ldf0LS"
      },
      "source": [
        "import functools\n",
        "def add(x, y):\n",
        "  return x+y\n",
        "\n",
        "def myreduce(add, iterable):\n",
        "  result = 0\n",
        "  for i in iterable:\n",
        "    result = add(i,result)\n",
        "  return result\n",
        "nums = [1,2,3,4,5,6,7,8]\n",
        "print(myreduce(add, nums))\n",
        "print(functools.reduce(add,nums))"
      ],
      "execution_count": null,
      "outputs": []
    },
    {
      "cell_type": "markdown",
      "metadata": {
        "id": "v9b8sGZ_epzT"
      },
      "source": [
        "program 1.2"
      ]
    },
    {
      "cell_type": "code",
      "metadata": {
        "id": "B0McbW9RewYh"
      },
      "source": [
        "def even(n):\n",
        "  return n%2==0\n",
        "  \n",
        "\n",
        "def myfilter(even,iterable):\n",
        "  indices = [even(i) for i in iterable]\n",
        "  c=[]\n",
        "  for i in range(len(indices)):\n",
        "    if (indices[i] == True):\n",
        "      c.append(iterable[i])\n",
        "  return c\n",
        "nums = [1,2,3,4,5,6,7,8,9,10]\n",
        "print(myfilter(even,nums))\n",
        "print(list(filter(even,nums)))"
      ],
      "execution_count": null,
      "outputs": []
    },
    {
      "cell_type": "markdown",
      "metadata": {
        "id": "TUqwyGhPrwjj"
      },
      "source": [
        "program 2"
      ]
    },
    {
      "cell_type": "code",
      "metadata": {
        "id": "A_u4r7hcr7tU"
      },
      "source": [
        "list1 = []\n",
        "for i in range(1,5):\n",
        "  list1.append(\"X\"*i)\n",
        "for i in range(1,5):\n",
        "  list1.append(\"Y\"*i)\n",
        "for i in range(1,5):\n",
        "  list1.append(\"Z\"*i)\n",
        "print(list1)"
      ],
      "execution_count": null,
      "outputs": []
    },
    {
      "cell_type": "code",
      "metadata": {
        "id": "ZFmAevUHtMhr"
      },
      "source": [
        "list2 = []\n",
        "for i in range(1,5):\n",
        "  list2.append(\"x\"*i)\n",
        "  list2.append(\"Y\"*i)\n",
        "  list2.append(\"Z\"*i)\n",
        "print(list2)\n"
      ],
      "execution_count": null,
      "outputs": []
    },
    {
      "cell_type": "code",
      "metadata": {
        "id": "vaWJXoLcXqTv"
      },
      "source": [
        "list3=[]\n",
        "for i in range(2,6):\n",
        "  for j in range(3):\n",
        "    list3.append([i+j])\n",
        "print(list3)"
      ],
      "execution_count": null,
      "outputs": []
    },
    {
      "cell_type": "code",
      "metadata": {
        "id": "KnGK--qWx6xw"
      },
      "source": [
        "p = []\n",
        "for i in range(2,6):\n",
        "  list4 =[]\n",
        "  for j in range(4):\n",
        "    list4.append(i+j)\n",
        "  p.append(list4.copy())\n",
        "print(p)"
      ],
      "execution_count": null,
      "outputs": []
    },
    {
      "cell_type": "code",
      "metadata": {
        "id": "0EfelAlPz205"
      },
      "source": [
        "list5 = []\n",
        "for i in range(1,4):\n",
        "  for j in range(1,4):\n",
        "      list5.append((j,i))\n",
        "print(list5)"
      ],
      "execution_count": null,
      "outputs": []
    }
  ]
}