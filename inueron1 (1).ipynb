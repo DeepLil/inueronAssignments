{
  "nbformat": 4,
  "nbformat_minor": 0,
  "metadata": {
    "colab": {
      "name": "inueron1.ipynb",
      "provenance": []
    },
    "kernelspec": {
      "name": "python3",
      "display_name": "Python 3"
    },
    "language_info": {
      "name": "python"
    }
  },
  "cells": [
    {
      "cell_type": "markdown",
      "metadata": {
        "id": "CHQ2ZUOiyN_M"
      },
      "source": [
        "program 1"
      ]
    },
    {
      "cell_type": "code",
      "metadata": {
        "colab": {
          "base_uri": "https://localhost:8080/"
        },
        "id": "wT4sqvt-yRTY",
        "outputId": "57df6c26-82ca-47f5-f436-108f61d11c97"
      },
      "source": [
        "for i in range(2000,3201):\n",
        "  if i%7==0 and i%5!=0:\n",
        "    print(i,end=\",\")"
      ],
      "execution_count": null,
      "outputs": [
        {
          "output_type": "stream",
          "text": [
            "2002,2009,2016,2023,2037,2044,2051,2058,2072,2079,2086,2093,2107,2114,2121,2128,2142,2149,2156,2163,2177,2184,2191,2198,2212,2219,2226,2233,2247,2254,2261,2268,2282,2289,2296,2303,2317,2324,2331,2338,2352,2359,2366,2373,2387,2394,2401,2408,2422,2429,2436,2443,2457,2464,2471,2478,2492,2499,2506,2513,2527,2534,2541,2548,2562,2569,2576,2583,2597,2604,2611,2618,2632,2639,2646,2653,2667,2674,2681,2688,2702,2709,2716,2723,2737,2744,2751,2758,2772,2779,2786,2793,2807,2814,2821,2828,2842,2849,2856,2863,2877,2884,2891,2898,2912,2919,2926,2933,2947,2954,2961,2968,2982,2989,2996,3003,3017,3024,3031,3038,3052,3059,3066,3073,3087,3094,3101,3108,3122,3129,3136,3143,3157,3164,3171,3178,3192,3199,"
          ],
          "name": "stdout"
        }
      ]
    },
    {
      "cell_type": "markdown",
      "metadata": {
        "id": "vG5eK2Bkx0Ly"
      },
      "source": [
        "Program 2"
      ]
    },
    {
      "cell_type": "code",
      "metadata": {
        "colab": {
          "base_uri": "https://localhost:8080/"
        },
        "id": "y_a6cr3Zx2O4",
        "outputId": "6068ddd2-6eba-4c9d-f97e-a5a13c62a638"
      },
      "source": [
        "firstName = str(input(\"enter first name\"))\n",
        "lastName = str(input(\"enter last time\"))\n",
        "print(lastName+\" \"+firstName)"
      ],
      "execution_count": null,
      "outputs": [
        {
          "output_type": "stream",
          "text": [
            "enter first namehello\n",
            "enter last timeworls\n",
            "worls hello\n"
          ],
          "name": "stdout"
        }
      ]
    },
    {
      "cell_type": "markdown",
      "metadata": {
        "id": "pGTN2dt2xGkd"
      },
      "source": [
        "program 3"
      ]
    },
    {
      "cell_type": "code",
      "metadata": {
        "colab": {
          "base_uri": "https://localhost:8080/"
        },
        "id": "rLoNRhWuxNhR",
        "outputId": "0dbdf03d-bd61-40f5-be83-eeb74db267c1"
      },
      "source": [
        "d=12\n",
        "import math\n",
        "pi=math.pi\n",
        "vol=4/3*pi*(d/2)**3\n",
        "print(\"volume of the sphere with diameter\",d,\"is\",vol)"
      ],
      "execution_count": null,
      "outputs": [
        {
          "output_type": "stream",
          "text": [
            "volume of the sphere with diameter 12 is 904.7786842338603\n"
          ],
          "name": "stdout"
        }
      ]
    }
  ]
}