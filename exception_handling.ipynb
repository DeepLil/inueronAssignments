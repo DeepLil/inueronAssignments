{
  "nbformat": 4,
  "nbformat_minor": 0,
  "metadata": {
    "colab": {
      "name": "exception_handling.ipynb",
      "provenance": []
    },
    "kernelspec": {
      "name": "python3",
      "display_name": "Python 3"
    },
    "language_info": {
      "name": "python"
    }
  },
  "cells": [
    {
      "cell_type": "markdown",
      "metadata": {
        "id": "fmZ3dO7dWjU7"
      },
      "source": [
        "program 1"
      ]
    },
    {
      "cell_type": "code",
      "metadata": {
        "id": "UoBYV_E1WGfj"
      },
      "source": [
        "a = 5\n",
        "b = 0\n",
        "try:\n",
        "  print(a/b)\n",
        "except Exception as e:\n",
        "  print(e)\n",
        "\n"
      ],
      "execution_count": null,
      "outputs": []
    },
    {
      "cell_type": "markdown",
      "metadata": {
        "id": "jGkH2rKAaa-G"
      },
      "source": [
        "Program 2"
      ]
    },
    {
      "cell_type": "code",
      "metadata": {
        "id": "ee0hHZc9adOP"
      },
      "source": [
        "subjects = ['Americans', 'Indians']\n",
        "verbs = ['play', 'watch']\n",
        "objects = ['Baseball', 'Cricket']\n",
        "for i in subjects:\n",
        "  for j in verbs:\n",
        "    for k in objects:\n",
        "      print(i+\" \"+j+\" \"+k)\n",
        "\n",
        "      \n",
        "\n"
      ],
      "execution_count": null,
      "outputs": []
    }
  ]
}