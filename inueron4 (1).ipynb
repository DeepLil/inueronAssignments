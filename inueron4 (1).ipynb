{
  "nbformat": 4,
  "nbformat_minor": 0,
  "metadata": {
    "colab": {
      "name": "inueron4.ipynb",
      "provenance": []
    },
    "kernelspec": {
      "name": "python3",
      "display_name": "Python 3"
    },
    "language_info": {
      "name": "python"
    }
  },
  "cells": [
    {
      "cell_type": "markdown",
      "metadata": {
        "id": "HaUm9HMXVC8N"
      },
      "source": [
        "Program 1.1"
      ]
    },
    {
      "cell_type": "code",
      "metadata": {
        "id": "MjUK9z7RWcvX"
      },
      "source": [
        "class Triangle():\n",
        "  def __init__(self,a,b,c):\n",
        "    self.a = a\n",
        "    self.b = b\n",
        "    self.c = c\n",
        "    self.s = (a+b+c)/2\n",
        "class Area(Triangle):\n",
        "  def area(self):\n",
        "    A = (self.s*(self.s-self.a)*(self.s-self.b)*(self.s-self.c))/2\n",
        "    return A\n",
        "\n",
        "a, b, c =eval(input('enter three sides of traingle by seperation of comma'))\n",
        "traing = Area(a,b,c)\n",
        "traing.area()"
      ],
      "execution_count": null,
      "outputs": []
    },
    {
      "cell_type": "markdown",
      "metadata": {
        "id": "BJm1z2FlSiQx"
      },
      "source": [
        "Program 1.2"
      ]
    },
    {
      "cell_type": "code",
      "metadata": {
        "id": "VrYysyVeSlzg"
      },
      "source": [
        "def filter_long_words(num,list1):\n",
        "  list2=[]\n",
        "  for i in list1:\n",
        "    if num<len(i):\n",
        "      list2.append(i)\n",
        "  return list2\n",
        "list_of_words = ['om', 'oh my god', 'oh no', 'oolala', 'parpappar']\n",
        "num = 5\n",
        "filter_long_words(num,list_of_words)"
      ],
      "execution_count": null,
      "outputs": []
    },
    {
      "cell_type": "markdown",
      "metadata": {
        "id": "RJEPrGAvNodF"
      },
      "source": [
        "Program 2.1"
      ]
    },
    {
      "cell_type": "code",
      "metadata": {
        "id": "__MCTpsTNZL0"
      },
      "source": [
        "def length(i):\n",
        "  return len(i)\n",
        "\n",
        "listt = ['aa', 'bb', 'ccvrf', 'dsdfsfs']\n",
        "print(list(map(length,listt)))\n",
        "\n"
      ],
      "execution_count": null,
      "outputs": []
    },
    {
      "cell_type": "markdown",
      "metadata": {
        "id": "zO6xm2LuPA5R"
      },
      "source": [
        "Program 2.2"
      ]
    },
    {
      "cell_type": "code",
      "metadata": {
        "id": "yumO58CRPCMp"
      },
      "source": [
        "def vowel_detect(c):\n",
        "  vowels = 'aeiou'\n",
        "  flag = 0\n",
        "  for i in vowels:\n",
        "    if c == i:\n",
        "      flag = 1\n",
        "      break\n",
        "  if flag ==0:\n",
        "    return False\n",
        "  else:\n",
        "    return True\n",
        "  \n",
        "c = str(input('enter single character'))\n",
        "if len(c) == 1:\n",
        "  vowel_detect(c)\n",
        "else:\n",
        "  print(\"please enter single character only\")"
      ],
      "execution_count": null,
      "outputs": []
    }
  ]
}