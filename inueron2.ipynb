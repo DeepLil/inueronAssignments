{
  "nbformat": 4,
  "nbformat_minor": 0,
  "metadata": {
    "colab": {
      "name": "inueron2.ipynb",
      "provenance": [],
      "collapsed_sections": []
    },
    "kernelspec": {
      "name": "python3",
      "display_name": "Python 3"
    },
    "language_info": {
      "name": "python"
    }
  },
  "cells": [
    {
      "cell_type": "markdown",
      "metadata": {
        "id": "e3F6VUTAgC9X"
      },
      "source": [
        "Program1"
      ]
    },
    {
      "cell_type": "code",
      "metadata": {
        "id": "oYLa9ZIOgGSz"
      },
      "source": [
        "n = int(input())\n",
        "for i in range(n):\n",
        "  for j in range(i+1):\n",
        "    print(\"*\", end=\" \")\n",
        "  print()\n",
        "for i in range(n):\n",
        "  for j in range(n-i-1):\n",
        "    print(\"*\", end=\" \")\n",
        "  print()\n",
        "\n",
        "  "
      ],
      "execution_count": null,
      "outputs": []
    },
    {
      "cell_type": "markdown",
      "metadata": {
        "id": "u4U3uObRmNt2"
      },
      "source": [
        "Program 2\n"
      ]
    },
    {
      "cell_type": "code",
      "metadata": {
        "id": "1Nte0m2VmRKM"
      },
      "source": [
        "string =str(input())\n",
        "l = len(string)\n",
        "for i in range(l):\n",
        "  print(string[l-i-1],end=\"\")\n"
      ],
      "execution_count": null,
      "outputs": []
    }
  ]
}